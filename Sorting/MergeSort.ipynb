{
 "cells": [
  {
   "cell_type": "code",
   "execution_count": 1,
   "metadata": {
    "ExecuteTime": {
     "end_time": "2020-09-10T16:42:47.005902Z",
     "start_time": "2020-09-10T16:42:23.739489Z"
    }
   },
   "outputs": [],
   "source": [
    "# importing libraries\n",
    "from graph import draw_graph\n",
    "import pandas as pd"
   ]
  },
  {
   "cell_type": "code",
   "execution_count": 2,
   "metadata": {
    "ExecuteTime": {
     "end_time": "2020-09-10T16:42:51.678305Z",
     "start_time": "2020-09-10T16:42:51.642402Z"
    }
   },
   "outputs": [],
   "source": [
    "# function to perform merge sort\n",
    "def merge_sort(arr, sorttype='ascending'):\n",
    "    if len(arr) > 1:\n",
    "        m = len(arr)//2\n",
    "        l = arr[:m]\n",
    "        r = arr[m:]\n",
    "    \n",
    "        if sorttype == 'descending':\n",
    "            merge_sort(l, sorttype='descending')\n",
    "            merge_sort(r, sorttype='descending')\n",
    "        \n",
    "        else:\n",
    "            merge_sort(l)\n",
    "            merge_sort(r)\n",
    "    \n",
    "        i = j = k = 0\n",
    "    \n",
    "        while i < len(l) and j < len(r):\n",
    "            if sorttype == 'descending':\n",
    "                if l[i] > r[j]:\n",
    "                    arr[k] = l[i]\n",
    "                    i = i+1\n",
    "                else:\n",
    "                    arr[k] = r[j]\n",
    "                    j = j+1\n",
    "                k = k+1\n",
    "            else:\n",
    "                if l[i] < r[j]:\n",
    "                    arr[k] = l[i]\n",
    "                    i = i+1\n",
    "                else:\n",
    "                    arr[k] = r[j]\n",
    "                    j = j+1\n",
    "                k = k+1\n",
    "    \n",
    "        while i < len(l):\n",
    "            arr[k] = l[i]\n",
    "            i = i+1\n",
    "            k = k+1\n",
    "    \n",
    "        while j < len(r):\n",
    "            arr[k] = r[j]\n",
    "            j = j+1\n",
    "            k = k+1\n"
   ]
  },
  {
   "cell_type": "code",
   "execution_count": 3,
   "metadata": {
    "ExecuteTime": {
     "end_time": "2020-09-10T16:42:57.999776Z",
     "start_time": "2020-09-10T16:42:53.911328Z"
    }
   },
   "outputs": [
    {
     "data": {
      "image/png": "[encoded data removed]",
      "text/plain": [
       "<Figure size 360x216 with 1 Axes>"
      ]
     },
     "metadata": {},
     "output_type": "display_data"
    },
    {
     "data": {
      "image/png": "[encoded data removed]",
      "text/plain": [
       "<Figure size 360x216 with 1 Axes>"
      ]
     },
     "metadata": {},
     "output_type": "display_data"
    }
   ],
   "source": [
    "arr = [5, 1, 15, 22, 21, 0, 3, 6, 9, 2]\n",
    "\n",
    "# input graph\n",
    "n = len(arr)\n",
    "df = pd.DataFrame()\n",
    "df['number of arguements'] = list(range(0, n))\n",
    "df['values'] = arr\n",
    "draw_graph(x='number of arguements', y='values', data=df, title='Original input')\n",
    "\n",
    "merge_sort(arr)\n",
    "\n",
    "# output graph\n",
    "df['values'] = arr\n",
    "draw_graph(x='number of arguements', y='values', data=df, title='Final output')"
   ]
  },
  {
   "cell_type": "code",
   "execution_count": null,
   "metadata": {},
   "outputs": [],
   "source": []
  }
 ],
 "metadata": {
  "hide_input": false,
  "kernelspec": {
   "display_name": "Python 3",
   "language": "python",
   "name": "python3"
  },
  "language_info": {
   "codemirror_mode": {
    "name": "ipython",
    "version": 3
   },
   "file_extension": ".py",
   "mimetype": "text/x-python",
   "name": "python",
   "nbconvert_exporter": "python",
   "pygments_lexer": "ipython3",
   "version": "3.6.5"
  },
  "nbTranslate": {
   "displayLangs": [
    "*"
   ],
   "hotkey": "alt-t",
   "langInMainMenu": true,
   "sourceLang": "en",
   "targetLang": "fr",
   "useGoogleTranslate": true
  },
  "toc": {
   "base_numbering": 1,
   "nav_menu": {},
   "number_sections": true,
   "sideBar": true,
   "skip_h1_title": false,
   "title_cell": "Table of Contents",
   "title_sidebar": "Contents",
   "toc_cell": false,
   "toc_position": {},
   "toc_section_display": true,
   "toc_window_display": false
  },
  "varInspector": {
   "cols": {
    "lenName": 16,
    "lenType": 16,
    "lenVar": 40
   },
   "kernels_config": {
    "python": {
     "delete_cmd_postfix": "",
     "delete_cmd_prefix": "del ",
     "library": "var_list.py",
     "varRefreshCmd": "print(var_dic_list())"
    },
    "r": {
     "delete_cmd_postfix": ") ",
     "delete_cmd_prefix": "rm(",
     "library": "var_list.r",
     "varRefreshCmd": "cat(var_dic_list()) "
    }
   },
   "types_to_exclude": [
    "module",
    "function",
    "builtin_function_or_method",
    "instance",
    "_Feature"
   ],
   "window_display": false
  }
 },
 "nbformat": 4,
 "nbformat_minor": 4
}
